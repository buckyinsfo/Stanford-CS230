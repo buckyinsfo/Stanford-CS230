{
 "cells": [
  {
   "cell_type": "code",
   "execution_count": 1,
   "metadata": {},
   "outputs": [],
   "source": [
    "function A = warmUpExercise()\n",
    "%WARMUPEXERCISE Example function in octave\n",
    "%   A = WARMUPEXERCISE() is an example function that returns the 5x5 identity matrix\n",
    "\n",
    "A = [];\n",
    "% ============= YOUR CODE HERE ==============\n",
    "% Instructions: Return the 5x5 identity matrix \n",
    "%               In octave, we return values by defining which variables\n",
    "%               represent the return values (at the top of the file)\n",
    "%               and then set them accordingly. \n",
    "% ===========================================\n",
    "A=eye(5);\n",
    "\n",
    "end"
   ]
  },
  {
   "cell_type": "markdown",
   "metadata": {},
   "source": [
    "## Warmup Exercise"
   ]
  },
  {
   "cell_type": "code",
   "execution_count": 2,
   "metadata": {
    "scrolled": true
   },
   "outputs": [
    {
     "name": "stdout",
     "output_type": "stream",
     "text": [
      "Diagonal Matrix\r\n",
      "\r\n",
      "   1   0   0   0   0\r\n",
      "   0   1   0   0   0\r\n",
      "   0   0   1   0   0\r\n",
      "   0   0   0   1   0\r\n",
      "   0   0   0   0   1\r\n"
     ]
    }
   ],
   "source": [
    "disp(warmUpExercise());"
   ]
  },
  {
   "cell_type": "markdown",
   "metadata": {},
   "source": [
    "## Matrix Multiplication"
   ]
  },
  {
   "cell_type": "code",
   "execution_count": 1,
   "metadata": {},
   "outputs": [
    {
     "name": "stdout",
     "output_type": "stream",
     "text": [
      "A =\n",
      "\n",
      "   1   2\n",
      "   3   4\n",
      "   5   6\n",
      "\n",
      "B =\n",
      "\n",
      "   1\n",
      "   2\n",
      "\n",
      "mult_AB =\n",
      "\n",
      "    5\n",
      "   11\n",
      "   17\n",
      "\n"
     ]
    }
   ],
   "source": [
    "% Initialize a 3 by 2 matrix \n",
    "A = [1, 2; 3, 4;5, 6]\n",
    "\n",
    "% Initialize a 2 by 1 matrix \n",
    "B = [1; 2] \n",
    "\n",
    "% We expect a resulting matrix of (3 by 2)*(2 by 1) = (3 by 1) \n",
    "mult_AB = A*B\n",
    "\n",
    "% Make sure you understand why we got that result"
   ]
  },
  {
   "cell_type": "markdown",
   "metadata": {},
   "source": [
    "## Matrix Multiplication \n",
    "* In general matrix multiplication is not commutative.  We can not arbitrarily reverse the order of multiplication of the matrices."
   ]
  },
  {
   "cell_type": "code",
   "execution_count": 12,
   "metadata": {},
   "outputs": [
    {
     "name": "stdout",
     "output_type": "stream",
     "text": [
      "A =\n",
      "\n",
      "   1   1\n",
      "   0   0\n",
      "\n",
      "B =\n",
      "\n",
      "   0   0\n",
      "   2   0\n",
      "\n",
      "   2   0\n",
      "   0   0\n",
      "is not the same as:\n",
      "   0   0\n",
      "   2   2\n"
     ]
    }
   ],
   "source": [
    "% Initialize two 2 by 2 matric  es\n",
    "A = [1, 1; 0, 0]\n",
    "B = [0, 0; 2, 0]\n",
    "\n",
    "mult_AB = A*B;\n",
    "mult_BA = B*A;\n",
    "\n",
    "disp(mult_AB)\n",
    "disp(\"is not the same as:\")\n",
    "disp(mult_BA)"
   ]
  },
  {
   "cell_type": "markdown",
   "metadata": {},
   "source": [
    "* However, matrix multiplication is associative.\n",
    " \n",
    "3 * 5 * 2 = 3 * 10 = 30 = 15 * 2  \n",
    "or  \n",
    "A * B * C = A * (B * C) = (A * B) * C\n"
   ]
  },
  {
   "cell_type": "code",
   "execution_count": 15,
   "metadata": {},
   "outputs": [
    {
     "name": "stdout",
     "output_type": "stream",
     "text": [
      "C =\n",
      "\n",
      "   3   3\n",
      "   1   0\n",
      "\n",
      "mult_BC =\n",
      "\n",
      "   0   0\n",
      "   6   6\n",
      "\n",
      "mult_AB_C =\n",
      "\n",
      "   6   6\n",
      "   0   0\n",
      "\n",
      "mult_A_BC =\n",
      "\n",
      "   6   6\n",
      "   0   0\n",
      "\n"
     ]
    }
   ],
   "source": [
    "% Initialize a third 2 by 2 matrix\n",
    "C = [3, 3; 1, 0]\n",
    "\n",
    "mult_BC = B*C\n",
    "\n",
    "mult_AB_C = mult_AB*C\n",
    "mult_A_BC = A*mult_BC"
   ]
  },
  {
   "cell_type": "markdown",
   "metadata": {},
   "source": [
    "## Matrix Wrapup - part 1\n",
    "* - commutative\n",
    "* - associuative\n",
    "* - identity"
   ]
  },
  {
   "cell_type": "code",
   "execution_count": 2,
   "metadata": {},
   "outputs": [
    {
     "name": "stdout",
     "output_type": "stream",
     "text": [
      "A =\n",
      "\n",
      "   1   2\n",
      "   4   5\n",
      "\n",
      "B =\n",
      "\n",
      "   1   1\n",
      "   0   2\n",
      "\n",
      "I =\n",
      "\n",
      "Diagonal Matrix\n",
      "\n",
      "   1   0\n",
      "   0   1\n",
      "\n",
      "IA =\n",
      "\n",
      "   1   2\n",
      "   4   5\n",
      "\n",
      "AI =\n",
      "\n",
      "   1   2\n",
      "   4   5\n",
      "\n",
      "AB =\n",
      "\n",
      "    1    5\n",
      "    4   14\n",
      "\n",
      "BA =\n",
      "\n",
      "    5    7\n",
      "    8   10\n",
      "\n"
     ]
    }
   ],
   "source": [
    "% Initialize random matrices A and B \n",
    "A = [1,2;4,5]\n",
    "B = [1,1;0,2]\n",
    "\n",
    "% Initialize a 2 by 2 identity matrix\n",
    "I = eye(2)\n",
    "\n",
    "% The above notation is the same as I = [1,0;0,1]\n",
    "\n",
    "% What happens when we multiply I*A ? \n",
    "IA = I*A \n",
    "\n",
    "% How about A*I ? \n",
    "AI = A*I \n",
    "\n",
    "% Compute A*B \n",
    "AB = A*B \n",
    "\n",
    "% Is it equal to B*A? \n",
    "BA = B*A \n",
    "\n",
    "% Note that IA = AI but AB != BA"
   ]
  },
  {
   "cell_type": "markdown",
   "metadata": {},
   "source": [
    "## Matrix Wrapup - part 2\n",
    "* - inverse\n",
    "* - transpose"
   ]
  },
  {
   "cell_type": "code",
   "execution_count": 1,
   "metadata": {},
   "outputs": [
    {
     "name": "stdout",
     "output_type": "stream",
     "text": [
      "A =\n",
      "\n",
      "   1   2   0\n",
      "   0   5   6\n",
      "   7   0   9\n",
      "\n",
      "A_trans =\n",
      "\n",
      "   1   0   7\n",
      "   2   5   0\n",
      "   0   6   9\n",
      "\n",
      "A_inv =\n",
      "\n",
      "   0.348837  -0.139535   0.093023\n",
      "   0.325581   0.069767  -0.046512\n",
      "  -0.271318   0.108527   0.038760\n",
      "\n",
      "A_invA =\n",
      "\n",
      "   1.0000e+00  -8.3267e-17   5.5511e-17\n",
      "   2.7756e-17   1.0000e+00  -8.3267e-17\n",
      "  -3.4694e-17   2.7756e-17   1.0000e+00\n",
      "\n"
     ]
    }
   ],
   "source": [
    "% Initialize matrix A \n",
    "A = [1,2,0;0,5,6;7,0,9]\n",
    "\n",
    "% Transpose A \n",
    "A_trans = A' \n",
    "\n",
    "% Take the inverse of A \n",
    "A_inv = inv(A)\n",
    "\n",
    "% What is A^(-1)*A? \n",
    "A_invA = inv(A)*A"
   ]
  },
  {
   "cell_type": "markdown",
   "metadata": {},
   "source": [
    "## Week One - Quiz"
   ]
  },
  {
   "cell_type": "code",
   "execution_count": 2,
   "metadata": {},
   "outputs": [
    {
     "name": "stdout",
     "output_type": "stream",
     "text": [
      "A =\n",
      "\n",
      "   1  -4\n",
      "  -2   1\n",
      "\n",
      "B =\n",
      "\n",
      "   0   3\n",
      "   5   8\n",
      "\n",
      "A_minus_B =\n",
      "\n",
      "   1  -7\n",
      "  -7  -7\n",
      "\n"
     ]
    }
   ],
   "source": [
    "% Q1\n",
    "A = [1, -4; -2, 1]\n",
    "B = [0, 3; 5, 8]\n",
    "\n",
    "A_minus_B = A-B"
   ]
  },
  {
   "cell_type": "code",
   "execution_count": 6,
   "metadata": {},
   "outputs": [
    {
     "name": "stdout",
     "output_type": "stream",
     "text": [
      "X =\n",
      "\n",
      "   5   5   2   7\n",
      "\n",
      "D =\n",
      "\n",
      "   10   10    4   14\n",
      "\n"
     ]
    }
   ],
   "source": [
    "% Q2\n",
    "X = [5, 5, 2, 7]\n",
    "D = 2 * X"
   ]
  },
  {
   "cell_type": "code",
   "execution_count": null,
   "metadata": {},
   "outputs": [],
   "source": [
    "% Q\n",
    "\n",
    "U = [5;1;9]\n",
    "U_tr"
   ]
  }
 ],
 "metadata": {
  "kernelspec": {
   "display_name": "Octave",
   "language": "octave",
   "name": "octave"
  },
  "language_info": {
   "file_extension": ".m",
   "help_links": [
    {
     "text": "GNU Octave",
     "url": "https://www.gnu.org/software/octave/support.html"
    },
    {
     "text": "Octave Kernel",
     "url": "https://github.com/Calysto/octave_kernel"
    },
    {
     "text": "MetaKernel Magics",
     "url": "https://metakernel.readthedocs.io/en/latest/source/README.html"
    }
   ],
   "mimetype": "text/x-octave",
   "name": "octave",
   "version": "5.2.0"
  }
 },
 "nbformat": 4,
 "nbformat_minor": 4
}
